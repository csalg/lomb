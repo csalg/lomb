{
 "cells": [
  {
   "cell_type": "code",
   "execution_count": 36,
   "id": "ahead-selection",
   "metadata": {},
   "outputs": [],
   "source": [
    "import requests\n",
    "from bs4 import BeautifulSoup\n",
    "from typing import TypedDict\n",
    "\n",
    "URL = 'https://www.gayboystube.com/'\n",
    "page=2\n"
   ]
  },
  {
   "cell_type": "code",
   "execution_count": 57,
   "id": "standard-loading",
   "metadata": {},
   "outputs": [],
   "source": [
    "page = requests.get(URL)"
   ]
  },
  {
   "cell_type": "code",
   "execution_count": 59,
   "id": "adjacent-horizontal",
   "metadata": {},
   "outputs": [],
   "source": [
    "soup = BeautifulSoup(page.text)"
   ]
  },
  {
   "cell_type": "code",
   "execution_count": 66,
   "id": "partial-stations",
   "metadata": {},
   "outputs": [
    {
     "data": {
      "text/plain": [
       "'https://cdn.gayboystube.com/thumbs/6/0/a/9/b/20828860a9af8f65d79.mp4/20828860a9af8f65d79.mp4-8.jpg'"
      ]
     },
     "execution_count": 66,
     "metadata": {},
     "output_type": "execute_result"
    }
   ],
   "source": [
    "soup.select('.item-col')[0].select_one('img')['src']"
   ]
  },
  {
   "cell_type": "code",
   "execution_count": null,
   "id": "thorough-airplane",
   "metadata": {},
   "outputs": [],
   "source": []
  }
 ],
 "metadata": {
  "kernelspec": {
   "display_name": "Python 3",
   "language": "python",
   "name": "python3"
  },
  "language_info": {
   "codemirror_mode": {
    "name": "ipython",
    "version": 3
   },
   "file_extension": ".py",
   "mimetype": "text/x-python",
   "name": "python",
   "nbconvert_exporter": "python",
   "pygments_lexer": "ipython3",
   "version": "3.9.1"
  }
 },
 "nbformat": 4,
 "nbformat_minor": 5
}
