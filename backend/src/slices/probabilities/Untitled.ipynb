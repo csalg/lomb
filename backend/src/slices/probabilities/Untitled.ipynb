{
 "cells": [
  {
   "cell_type": "code",
   "execution_count": 2,
   "id": "polished-detail",
   "metadata": {},
   "outputs": [],
   "source": [
    "import pandas as pd"
   ]
  },
  {
   "cell_type": "code",
   "execution_count": 12,
   "id": "daily-equation",
   "metadata": {},
   "outputs": [],
   "source": [
    "# Put csv into df\n",
    "df = pd.read_csv('data.csv')"
   ]
  },
  {
   "cell_type": "code",
   "execution_count": 9,
   "id": "worth-peace",
   "metadata": {},
   "outputs": [],
   "source": [
    "\n",
    "# Separate features and label\n",
    "X = df.drop('score', axis=1)\n",
    "y = df['score']\n",
    "mu = calculate_mu()\n",
    "# Calculate mu\n",
    "# Fit for mu\n",
    "# Save weights and intercepts"
   ]
  },
  {
   "cell_type": "code",
   "execution_count": 16,
   "id": "vulnerable-hamburg",
   "metadata": {},
   "outputs": [
    {
     "data": {
      "text/plain": [
       "False"
      ]
     },
     "execution_count": 16,
     "metadata": {},
     "output_type": "execute_result"
    }
   ],
   "source": [
    "'delta' in df.columns"
   ]
  },
  {
   "cell_type": "code",
   "execution_count": null,
   "id": "double-wheat",
   "metadata": {},
   "outputs": [],
   "source": []
  }
 ],
 "metadata": {
  "kernelspec": {
   "display_name": "Python 3",
   "language": "python",
   "name": "python3"
  },
  "language_info": {
   "codemirror_mode": {
    "name": "ipython",
    "version": 3
   },
   "file_extension": ".py",
   "mimetype": "text/x-python",
   "name": "python",
   "nbconvert_exporter": "python",
   "pygments_lexer": "ipython3",
   "version": "3.9.1"
  }
 },
 "nbformat": 4,
 "nbformat_minor": 5
}
