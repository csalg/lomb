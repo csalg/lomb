{
 "cells": [
  {
   "cell_type": "code",
   "execution_count": 2,
   "id": "handmade-olive",
   "metadata": {},
   "outputs": [],
   "source": [
    "import pandas as pd"
   ]
  },
  {
   "cell_type": "code",
   "execution_count": 6,
   "id": "noted-validity",
   "metadata": {},
   "outputs": [],
   "source": [
    "# Put csv into df\n",
    "df = pd.read_csv('data.csv')"
   ]
  },
  {
   "cell_type": "code",
   "execution_count": 9,
   "id": "surprising-hampshire",
   "metadata": {},
   "outputs": [],
   "source": [
    "\n",
    "# Separate features and label\n",
    "X = df.drop('score', axis=1)\n",
    "y = df['score']\n",
    "mu = calculate_mu()\n",
    "# Calculate mu\n",
    "# Fit for mu\n",
    "# Save weights and intercepts"
   ]
  },
  {
   "cell_type": "code",
   "execution_count": 11,
   "id": "decreased-mention",
   "metadata": {},
   "outputs": [
    {
     "data": {
      "text/plain": [
       "0        1.000000\n",
       "1        1.000000\n",
       "2        1.000000\n",
       "3        1.000000\n",
       "4        1.000000\n",
       "           ...   \n",
       "36098    0.971407\n",
       "36099    0.997379\n",
       "36100    0.985904\n",
       "36101    1.000000\n",
       "36102    0.999894\n",
       "Name: score, Length: 36103, dtype: float64"
      ]
     },
     "execution_count": 11,
     "metadata": {},
     "output_type": "execute_result"
    }
   ],
   "source": [
    "y"
   ]
  },
  {
   "cell_type": "code",
   "execution_count": null,
   "id": "historical-forge",
   "metadata": {},
   "outputs": [],
   "source": []
  }
 ],
 "metadata": {
  "kernelspec": {
   "display_name": "Python 3",
   "language": "python",
   "name": "python3"
  },
  "language_info": {
   "codemirror_mode": {
    "name": "ipython",
    "version": 3
   },
   "file_extension": ".py",
   "mimetype": "text/x-python",
   "name": "python",
   "nbconvert_exporter": "python",
   "pygments_lexer": "ipython3",
   "version": "3.9.1"
  }
 },
 "nbformat": 4,
 "nbformat_minor": 5
}
