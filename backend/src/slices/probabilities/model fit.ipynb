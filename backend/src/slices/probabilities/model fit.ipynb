{
 "cells": [
  {
   "cell_type": "code",
   "execution_count": 51,
   "id": "liberal-grain",
   "metadata": {},
   "outputs": [],
   "source": [
    "import pandas as pd\n",
    "import numpy as np\n",
    "from sklearn.linear_model import LinearRegression\n",
    "import pickle"
   ]
  },
  {
   "cell_type": "code",
   "execution_count": 74,
   "id": "adjustable-double",
   "metadata": {},
   "outputs": [],
   "source": [
    "# Put csv into df\n",
    "df = pd.read_csv('data.csv')"
   ]
  },
  {
   "cell_type": "code",
   "execution_count": 85,
   "id": "bacterial-brush",
   "metadata": {},
   "outputs": [],
   "source": [
    "# Separate features and label\n",
    "X = df.drop(['score', 'delta', 'score_prev'], axis=1)\n",
    "\n",
    "# Save column names\n",
    "X.sort_index(axis=1, inplace=True)\n",
    "columns = X.columns\n",
    "\n",
    "score = df['score']\n",
    "score_prev = df['score_prev']\n",
    "delta = df['delta']\n",
    "weights = np.power(np.clip(score_prev- score, 0, 1)*delta, 2)\n",
    "# Calculate mu\n",
    "mu = SimplifiedWickelgren.calculate_mu(score, delta)\n",
    "\n",
    "# Fit for mu\n",
    "model = LinearRegression()\n",
    "model.fit(X, mu, sample_weight=weights)\n",
    "mu_pred = model.predict(X)\n",
    "score_pred = SimplifiedWickelgren.calculate_retention_rate(mu_pred,delta)\n",
    "# Save weights and intercepts"
   ]
  },
  {
   "cell_type": "code",
   "execution_count": 86,
   "id": "copyrighted-poverty",
   "metadata": {},
   "outputs": [
    {
     "data": {
      "text/plain": [
       "<AxesSubplot:>"
      ]
     },
     "execution_count": 86,
     "metadata": {},
     "output_type": "execute_result"
    },
    {
     "data": {
      "image/png": "[encoded data removed]",
      "text/plain": [
       "<Figure size 432x288 with 1 Axes>"
      ]
     },
     "metadata": {
      "needs_background": "light"
     },
     "output_type": "display_data"
    }
   ],
   "source": [
    "score_pred.hist()"
   ]
  },
  {
   "cell_type": "code",
   "execution_count": 87,
   "id": "improved-fence",
   "metadata": {},
   "outputs": [],
   "source": [
    "# Save columns\n",
    "with open('column_names.pkl', 'wb') as file:\n",
    "    pickle.dump(columns, file)\n",
    "\n",
    "# Save model\n",
    "with open('model.pkl', 'wb') as file:\n",
    "    pickle.dump(model, file)\n"
   ]
  },
  {
   "cell_type": "code",
   "execution_count": 61,
   "id": "amino-essence",
   "metadata": {},
   "outputs": [],
   "source": [
    "class MTR:\n",
    "    def __init__(self):\n",
    "        self.model = LinearRegression\n",
    "        self.column_names = []\n",
    "    \n",
    "    def load(self):\n",
    "        with open('model.pkl', 'rb') as file:\n",
    "            self.model = pickle.load(file)\n",
    "        \n",
    "        with open('column_names.pkl', 'rb') as file:\n",
    "            self.column_names = pickle.load(file)\n",
    "    \n",
    "    def predict_to_df(self, df):\n",
    "        X = df[self.column_names]\n",
    "        delta = df['delta']\n",
    "        mu_pred = self.model.predict(X)\n",
    "        df['score_pred'] = SimplifiedWickelgren.calculate_retention_rate(mu_pred, delta)\n",
    "        return df\n",
    "        \n",
    "        "
   ]
  },
  {
   "cell_type": "code",
   "execution_count": 69,
   "id": "frequent-scottish",
   "metadata": {},
   "outputs": [
    {
     "data": {
      "text/plain": [
       "<AxesSubplot:>"
      ]
     },
     "execution_count": 69,
     "metadata": {},
     "output_type": "execute_result"
    },
    {
     "data": {
      "image/png": "[encoded data removed]",
      "text/plain": [
       "<Figure size 432x288 with 1 Axes>"
      ]
     },
     "metadata": {
      "needs_background": "light"
     },
     "output_type": "display_data"
    }
   ],
   "source": [
    "mtr = MTR()\n",
    "mtr.load()\n",
    "mtr.predict_to_df(df)['score_pred'].hist()"
   ]
  },
  {
   "cell_type": "code",
   "execution_count": 66,
   "id": "central-leader",
   "metadata": {},
   "outputs": [
    {
     "data": {
      "text/plain": [
       "<AxesSubplot:>"
      ]
     },
     "execution_count": 66,
     "metadata": {},
     "output_type": "execute_result"
    },
    {
     "data": {
      "image/png": "[encoded data removed]",
      "text/plain": [
       "<Figure size 432x288 with 1 Axes>"
      ]
     },
     "metadata": {
      "needs_background": "light"
     },
     "output_type": "display_data"
    }
   ],
   "source": [
    "pd.DataFrame({'mu': mu, 'mu_pred': mu_pred, 'score': score, 'score_pred': score_pred})\n",
    "score.hist()\n",
    "score_pred.hist()"
   ]
  },
  {
   "cell_type": "code",
   "execution_count": 37,
   "id": "crucial-trinity",
   "metadata": {},
   "outputs": [
    {
     "data": {
      "text/plain": [
       "Index(['ALL_amount', 'ALL_leading_failures_amount',\n",
       "       'ALL_leading_failures_seconds', 'ALL_leading_recalls_amount',\n",
       "       'ALL_leading_recalls_seconds', 'ALL_longest_leading_recalls_seconds',\n",
       "       'BOOK_DRILL_CLICK_amount', 'BOOK_DRILL_CLICK_seconds',\n",
       "       'BOOK_DRILL_SCROLL_amount', 'BOOK_DRILL_SCROLL_seconds',\n",
       "       'FIRST_EXPOSURE_seconds', 'REVISION__CLICKED_amount',\n",
       "       'REVISION__CLICKED_seconds', 'REVISION__NOT_CLICKED_amount',\n",
       "       'REVISION__NOT_CLICKED_seconds', 'TEXT__SENTENCE_CLICK_amount',\n",
       "       'TEXT__SENTENCE_CLICK_seconds', 'TEXT__SENTENCE_READ_amount',\n",
       "       'TEXT__SENTENCE_READ_seconds', 'TEXT__WORD_HIGHLIGHTED_amount',\n",
       "       'TEXT__WORD_HIGHLIGHTED_seconds',\n",
       "       'VIDEO__TRANSLATION_WAS_REVEALED_amount',\n",
       "       'VIDEO__TRANSLATION_WAS_REVEALED_seconds', 'VIDEO__WAS_SEEN_amount',\n",
       "       'VIDEO__WAS_SEEN_seconds'],\n",
       "      dtype='object')"
      ]
     },
     "execution_count": 37,
     "metadata": {},
     "output_type": "execute_result"
    }
   ],
   "source": [
    "X.columns"
   ]
  },
  {
   "cell_type": "code",
   "execution_count": null,
   "id": "greenhouse-reliance",
   "metadata": {},
   "outputs": [],
   "source": []
  },
  {
   "cell_type": "code",
   "execution_count": 39,
   "id": "grateful-tiffany",
   "metadata": {},
   "outputs": [],
   "source": [
    "MU_MAX = 10e10\n",
    "MU_MIN = 10e-10\n",
    "\n",
    "class SimplifiedWickelgren:\n",
    "\n",
    "    @staticmethod\n",
    "    def calculate_mu(retention_rate, delta):\n",
    "        delta_ = delta / (24 * 60 * 60)\n",
    "        retention_rate_clipped = np.clip(retention_rate, 0.1, 0.9)\n",
    "        return -1. * np.divide(np.log(1 + delta_), (np.log(retention_rate_clipped)))\n",
    "\n",
    "    @staticmethod\n",
    "    def calculate_retention_rate(mu, delta):\n",
    "        delta_ = delta / (24 * 60 * 60)\n",
    "        mu = np.clip(mu, MU_MIN, MU_MAX)\n",
    "        exponent = np.divide(-1.,mu)\n",
    "        return np.power(1. + delta_, exponent)\n",
    "\n",
    "    @staticmethod\n",
    "    def get_name():\n",
    "        return \"SWP\""
   ]
  },
  {
   "cell_type": "code",
   "execution_count": null,
   "id": "secret-input",
   "metadata": {},
   "outputs": [],
   "source": []
  }
 ],
 "metadata": {
  "kernelspec": {
   "display_name": "Python 3",
   "language": "python",
   "name": "python3"
  },
  "language_info": {
   "codemirror_mode": {
    "name": "ipython",
    "version": 3
   },
   "file_extension": ".py",
   "mimetype": "text/x-python",
   "name": "python",
   "nbconvert_exporter": "python",
   "pygments_lexer": "ipython3",
   "version": "3.9.1"
  }
 },
 "nbformat": 4,
 "nbformat_minor": 5
}
